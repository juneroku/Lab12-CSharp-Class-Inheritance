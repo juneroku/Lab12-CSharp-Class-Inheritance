{
 "cells": [
  {
   "cell_type": "markdown",
   "metadata": {},
   "source": [
    "# Lab 12 Class Inheritance"
   ]
  },
  {
   "cell_type": "markdown",
   "metadata": {},
   "source": [
    "## Access overriding base class member (Methods)"
   ]
  },
  {
   "cell_type": "markdown",
   "metadata": {},
   "source": [
    "การเข้าถึงสมาชิกของ Base class ที่ถูกปิดบัง ทำได้โดยการแปลงชนิดข้อมูลไปยัง BaseClass เสียก่อน แล้วจึงเข้าถึงสมาชิกที่สืบทอดมาจาก base class นั้น "
   ]
  },
  {
   "cell_type": "markdown",
   "metadata": {},
   "source": [
    "สามารถทำได้ 2 แบบ คือ  \n",
    "\n",
    "1. ใช้วิธีการแปลงประเภท (Type Casting) หรือ การแปลงชนิดข้อมูล (Data Type Conversion)\n",
    "\n",
    "2. ใช้ keyword `'as'`"
   ]
  },
  {
   "cell_type": "markdown",
   "metadata": {},
   "source": [
    "1. สร้าง console application project\n",
    "\n",
    "```cmd\n",
    "dotnet new console --name Lab12_Ex10\n",
    "```"
   ]
  },
  {
   "cell_type": "markdown",
   "metadata": {},
   "source": [
    "2.เปลี่ยน code ให้เป็นดังต่อไปนี้\n",
    "\n",
    "```csharp\n",
    "// 1. ใช้วิธีการแปลงประเภท (Type Casting) หรือ การแปลงชนิดข้อมูล (Data Type Conversion)\n",
    "DerivedClass dc = new DerivedClass();\n",
    "Console.WriteLine(\"Use Type Casting or Data Type Conversion\");\n",
    "((BaseClass)dc).Greeting(); \n",
    "\n",
    "// 2. ใช้ keyword 'as'\n",
    "Console.WriteLine(\"------------\");\n",
    "Console.WriteLine(\"Use as keyword\");\n",
    "(dc as BaseClass).Greeting();\n",
    "\n",
    "class BaseClass\n",
    "{\n",
    "    public string Hello = \"Hello From BaseClass\";\n",
    "    public void Greeting()\n",
    "    {\n",
    "        Console.WriteLine(\"This is method in BaseClass\");\n",
    "        Console.WriteLine(Hello);\n",
    "    }\n",
    "\n",
    "}\n",
    "class DerivedClass : BaseClass\n",
    "{\n",
    "    public string Hello = \"Hello From DerivedClass\";\n",
    "    public void Greeting()\n",
    "    {\n",
    "        Console.WriteLine(\"This is method in DerivedClass\");\n",
    "        Console.WriteLine(Hello);\n",
    "    }\n",
    "}\n",
    "```"
   ]
  },
  {
   "cell_type": "markdown",
   "metadata": {},
   "source": [
    "3.Build project โดยการใช้คำสั่ง\n",
    "\n",
    "```cmd\n",
    "dotnet build  Lab12_Ex10\n",
    "```\n",
    "\n",
    "ถ้ามีที่ผิดพลาดในโปรแกรม ให้แก้ไขให้ถูกต้อง"
   ]
  },
  {
   "cell_type": "markdown",
   "metadata": {},
   "source": [
    "4.บันทึกผลที่ได้จากการรันคำสั่งในข้อ 3"
   ]
  },
  {
   "attachments": {
    "image.png": {
     "image/png": "[encoded data removed]"
    }
   },
   "cell_type": "markdown",
   "metadata": {},
   "source": [
    "![image.png](attachment:image.png)"
   ]
  },
  {
   "cell_type": "markdown",
   "metadata": {},
   "source": [
    "5.Run project โดยการใช้คำสั่ง\n",
    "\n",
    "```cmd\n",
    "dotnet run --project Lab12_Ex10\n",
    "```\n",
    "\n"
   ]
  },
  {
   "cell_type": "markdown",
   "metadata": {},
   "source": [
    "6.บันทึกผลที่ได้จากการรันคำสั่งในข้อ 5\n",
    "\n"
   ]
  },
  {
   "attachments": {
    "image.png": {
     "image/png": "[encoded data removed]"
    }
   },
   "cell_type": "markdown",
   "metadata": {},
   "source": [
    "![image.png](attachment:image.png)"
   ]
  },
  {
   "cell_type": "markdown",
   "metadata": {},
   "source": [
    "7.อธิบายสิ่งที่พบในการทดลอง"
   ]
  },
  {
   "cell_type": "markdown",
   "metadata": {},
   "source": [
    "Type Casting: การแปลงชนิดข้อมูลแบบนี้เป็นการบังคับให้แปลงออบเจกต์ไปยังชนิดที่ต้องการ แม้ว่าคลาสที่เราแปลงไปจะมีเมธอดเดียวกัน ชื่อเดียวกัน แต่ผลลัพธ์จะเป็นการเรียกเมธอดจากคลาสที่ถูกแปลงไป เช่น BaseClass ในที่นี้ แม้ว่าจะมีการสืบทอดมาจาก DerivedClass\n",
    "\n",
    "Keyword as: การใช้ as ช่วยในการแปลงชนิดข้อมูลอย่างปลอดภัย โดยไม่ทำให้เกิดข้อผิดพลาดเมื่อการแปลงไม่สำเร็จ แต่ต้องระวังการใช้เพราะหากการแปลงไม่สำเร็จ จะทำให้ได้ค่า null ซึ่งถ้าใช้งานต่อโดยไม่ตรวจสอบก่อนจะเกิดข้อผิดพลาด"
   ]
  }
 ],
 "metadata": {
  "kernelspec": {
   "display_name": ".NET (C#)",
   "language": "C#",
   "name": ".net-csharp"
  },
  "polyglot_notebook": {
   "kernelInfo": {
    "defaultKernelName": "csharp",
    "items": [
     {
      "aliases": [],
      "languageName": "csharp",
      "name": "csharp"
     }
    ]
   }
  }
 },
 "nbformat": 4,
 "nbformat_minor": 2
}
