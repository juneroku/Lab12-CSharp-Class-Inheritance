{
 "cells": [
  {
   "cell_type": "markdown",
   "metadata": {},
   "source": [
    "# Lab 12 Class Inheritance"
   ]
  },
  {
   "cell_type": "markdown",
   "metadata": {},
   "source": [
    "## Using a references to a base class\n",
    "\n"
   ]
  },
  {
   "cell_type": "markdown",
   "metadata": {},
   "source": [
    "1. สร้าง console application project\n",
    "\n",
    "```cmd\n",
    "dotnet new console --name Lab12_Ex13\n",
    "```\n",
    "\n"
   ]
  },
  {
   "cell_type": "markdown",
   "metadata": {},
   "source": [
    "2.เปลี่ยน code ให้เป็นดังต่อไปนี้\n",
    "\n",
    "```cs\n",
    "DerivedClass DC = new DerivedClass();\n",
    "System.Console.WriteLine($\"DC.Field1 = {DC.Field1}\");\n",
    "\n",
    "BaseClass BC = (BaseClass)DC;\n",
    "System.Console.WriteLine($\"BC.Field1 = {BC.Field1}\");\n",
    "\n",
    "class BaseClass\n",
    "{\n",
    "    public string Field1 = \"Field1 of BaseClass\"; \n",
    "}\n",
    "class DerivedClass:BaseClass\n",
    "{\n",
    "    new public string Field1 = \"Field1 of DerivedClass\"; \n",
    "}\n",
    "```\n",
    "\n"
   ]
  },
  {
   "cell_type": "markdown",
   "metadata": {},
   "source": [
    "3.Build project โดยการใช้คำสั่ง\n",
    "\n",
    "```cmd\n",
    "dotnet build  Lab12_Ex13\n",
    "```\n",
    "\n",
    "ถ้ามีที่ผิดพลาดในโปรแกรม ให้แก้ไขให้ถูกต้อง"
   ]
  },
  {
   "cell_type": "markdown",
   "metadata": {},
   "source": [
    "4.บันทึกผลที่ได้จากการรันคำสั่งในข้อ 3"
   ]
  },
  {
   "attachments": {
    "image.png": {
     "image/png": "[encoded data removed]"
    }
   },
   "cell_type": "markdown",
   "metadata": {},
   "source": [
    "![image.png](attachment:image.png)"
   ]
  },
  {
   "cell_type": "markdown",
   "metadata": {},
   "source": [
    "5.Run project โดยการใช้คำสั่ง\n",
    "\n",
    "```cmd\n",
    "dotnet run --project Lab12_Ex13\n",
    "```"
   ]
  },
  {
   "cell_type": "markdown",
   "metadata": {},
   "source": [
    "6.บันทึกผลที่ได้จากการรันคำสั่งในข้อ 5"
   ]
  },
  {
   "attachments": {
    "image.png": {
     "image/png": "[encoded data removed]"
    }
   },
   "cell_type": "markdown",
   "metadata": {},
   "source": [
    "![image.png](attachment:image.png)"
   ]
  },
  {
   "cell_type": "markdown",
   "metadata": {},
   "source": [
    "7.อธิบายสิ่งที่พบในการทดลอง"
   ]
  },
  {
   "cell_type": "markdown",
   "metadata": {},
   "source": [
    "เมื่อเข้าถึงฟิลด์ผ่านออบเจกต์ของ DerivedClass: จะเห็นค่าฟิลด์ที่ประกาศใน DerivedClass ซึ่งเป็น \"Field1 of DerivedClass\", เพราะใน DerivedClass มีการใช้ new เพื่อซ่อนฟิลด์ Field1 ของ BaseClass\n",
    "\n",
    "เมื่อเข้าถึงฟิลด์ผ่านตัวแปรที่เป็น BaseClass: จะเห็นค่าฟิลด์จาก BaseClass, เพราะการแปลงชนิด (type casting) ทำให้ตัวแปร BC อ้างถึง BaseClass ซึ่งมีฟิลด์ Field1 เป็น \"Field1 of BaseClass\""
   ]
  }
 ],
 "metadata": {
  "kernelspec": {
   "display_name": ".NET (C#)",
   "language": "C#",
   "name": ".net-csharp"
  },
  "polyglot_notebook": {
   "kernelInfo": {
    "defaultKernelName": "csharp",
    "items": [
     {
      "aliases": [],
      "languageName": "csharp",
      "name": "csharp"
     }
    ]
   }
  }
 },
 "nbformat": 4,
 "nbformat_minor": 2
}
