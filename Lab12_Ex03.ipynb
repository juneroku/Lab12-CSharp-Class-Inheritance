{
 "cells": [
  {
   "cell_type": "markdown",
   "metadata": {},
   "source": [
    "# Lab 12 Class Inheritance"
   ]
  },
  {
   "cell_type": "markdown",
   "metadata": {},
   "source": [
    "ในการทดลองนี้ จะได้ศึกษาลำดับของการทำงานของคลาสในการสืบทอดสมบัติ\n",
    "\n",
    "โดยให้คอนสตรักเตอร์ของคลาสแต่ละระดับทำหน้าที่แสดงข้อความออกมาตามบลำดับการสร้าง object\n"
   ]
  },
  {
   "cell_type": "markdown",
   "metadata": {},
   "source": [
    "## แผนผังการสืบทอดสมบัติของคลาส"
   ]
  },
  {
   "cell_type": "code",
   "execution_count": null,
   "metadata": {
    "dotnet_interactive": {
     "language": "mermaid"
    },
    "polyglot_notebook": {
     "kernelName": "mermaid"
    }
   },
   "outputs": [
    {
     "data": {
      "text/html": [
       "<div class=\"mermaidMarkdownContainer\" style=\"background-color:white\">\r\n",
       "<link rel=\"stylesheet\" href=\"https://cdnjs.cloudflare.com/ajax/libs/font-awesome/6.2.0/css/all.min.css\">\r\n",
       "<div id=\"952257f3fa1b4baebf382a707283e870\"></div>\r\n",
       "<script type=\"module\">\r\n",
       "\r\n",
       "            import mermaid from 'https://cdn.jsdelivr.net/npm/mermaid@10.6.1/dist/mermaid.esm.min.mjs';\r\n",
       "            let renderTarget = document.getElementById('952257f3fa1b4baebf382a707283e870');\r\n",
       "            try {\r\n",
       "                const {svg, bindFunctions} = await mermaid.mermaidAPI.render( \r\n",
       "                    'mermaid_952257f3fa1b4baebf382a707283e870', \r\n",
       "                    `classDiagram\r\n",
       "    class BaseClass1\r\n",
       "    class BaseClass2\r\n",
       "    class DerivedClass\r\n",
       "\r\n",
       "    BaseClass1 <|-- DerivedClass\r\n",
       "    `);\r\n",
       "                renderTarget.innerHTML = svg;\r\n",
       "                bindFunctions?.(renderTarget);\r\n",
       "            }\r\n",
       "            catch (error) {\r\n",
       "                console.log(error);\r\n",
       "            }\r\n",
       "</script>\r\n",
       "</div>\r\n"
      ]
     },
     "metadata": {},
     "output_type": "display_data"
    }
   ],
   "source": [
    "classDiagram\n",
    "    class BaseClass1\n",
    "    class BaseClass2\n",
    "    class DerivedClass\n",
    "\n",
    "    BaseClass1 <|-- DerivedClass\n",
    "    "
   ]
  },
  {
   "cell_type": "markdown",
   "metadata": {},
   "source": [
    "จากแผนภาพคลาสไดอะแกรมด้านบน เราสามารถนำมาเขียนโปรแกรมในภาษา C# ได้ดังนี้"
   ]
  },
  {
   "cell_type": "markdown",
   "metadata": {},
   "source": [
    "1. สร้าง console application project\n",
    "\n",
    "```cmd\n",
    "dotnet new console --name Lab12_Ex03\n",
    "```"
   ]
  },
  {
   "cell_type": "markdown",
   "metadata": {},
   "source": [
    "2.เปลี่ยน code ให้เป็นดังต่อไปนี้\n",
    "\n",
    "```csharp\n",
    "DerivedClass dc = new DerivedClass();\n",
    "class BaseClass1\n",
    " {\n",
    "    public BaseClass1()\n",
    "    {\n",
    "        System.Console.WriteLine(\"This is BaseClass1\");\n",
    "    }\n",
    " }\n",
    "class BaseClass2\n",
    " {\n",
    "    public BaseClass2()\n",
    "    {\n",
    "        System.Console.WriteLine(\"This is BaseClass2\");\n",
    "    }\n",
    " }\n",
    "\n",
    "class DerivedClass : BaseClass1\n",
    "{\n",
    "    public DerivedClass()\n",
    "    {\n",
    "        System.Console.WriteLine(\"This is DerivedClass\");\n",
    "    }\n",
    "}\n",
    "```\n",
    "\n"
   ]
  },
  {
   "cell_type": "markdown",
   "metadata": {},
   "source": [
    "3.Build project โดยการใช้คำสั่ง\n",
    "\n",
    "```cmd\n",
    "dotnet build  Lab12_Ex03\n",
    "```\n",
    "\n",
    "ถ้ามีที่ผิดพลาดในโปรแกรม ให้แก้ไขให้ถูกต้อง\n",
    "\n"
   ]
  },
  {
   "cell_type": "markdown",
   "metadata": {},
   "source": [
    "4.บันทึกผลที่ได้จากการรันคำสั่งในข้อ 3\n",
    "\n"
   ]
  },
  {
   "attachments": {
    "image.png": {
     "image/png": "[encoded data removed]"
    }
   },
   "cell_type": "markdown",
   "metadata": {},
   "source": [
    "![image.png](attachment:image.png)"
   ]
  },
  {
   "cell_type": "markdown",
   "metadata": {},
   "source": [
    "5.Run project โดยการใช้คำสั่ง\n",
    "\n",
    "```cmd\n",
    "dotnet run --project Lab12_Ex03\n",
    "```\n",
    "\n"
   ]
  },
  {
   "cell_type": "markdown",
   "metadata": {},
   "source": [
    "6.บันทึกผลที่ได้จากการรันคำสั่งในข้อ 5\n",
    "\n"
   ]
  },
  {
   "attachments": {
    "image.png": {
     "image/png": "[encoded data removed]"
    }
   },
   "cell_type": "markdown",
   "metadata": {},
   "source": [
    "![image.png](attachment:image.png)"
   ]
  },
  {
   "cell_type": "markdown",
   "metadata": {},
   "source": [
    "7.อธิบายสิ่งที่พบในการทดลอง"
   ]
  },
  {
   "cell_type": "markdown",
   "metadata": {},
   "source": [
    "การเรียกใช้คอนสตรัคเตอร์ (Constructor) ใน C#. โดยในโค้ดนี้มีการประกาศคลาสหลายคลาส รวมถึงคลาสที่มีการสืบทอดและการเรียกใช้งานคอนสตรัคเตอร์ของคลาสพ่อแม่ (BaseClass1) ผ่านคลาสลูก (DerivedClass)"
   ]
  },
  {
   "cell_type": "markdown",
   "metadata": {},
   "source": [
    "## คำถาม"
   ]
  },
  {
   "cell_type": "markdown",
   "metadata": {},
   "source": [
    "1. การที่มีคลาส BaseClass2 อยู่ใน source code นั้นมีผลใดๆ ต่อการทำงานของโปรแกรมหรือไม่"
   ]
  },
  {
   "cell_type": "markdown",
   "metadata": {},
   "source": [
    "การที่มีคลาส BaseClass2 อยู่ในโค้ดนั้น ไม่มีผลต่อการทำงานของโปรแกรม ในกรณีนี้ เนื่องจากคลาส DerivedClass สืบทอดมาจาก BaseClass1 เท่านั้น และไม่มีการใช้งานหรือสืบทอดจาก BaseClass2 เลย"
   ]
  },
  {
   "cell_type": "markdown",
   "metadata": {},
   "source": [
    "2. ให้บอกลำดับการทำงานของคลาส ว่า constructor มีลำดับการเรียกอย่างไร (เรียก base class หรือ derive class ก่่อน)"
   ]
  },
  {
   "cell_type": "markdown",
   "metadata": {},
   "source": [
    "คอนสตรัคเตอร์ของ BaseClass1 จะถูกเรียกก่อนเสมอ เนื่องจาก DerivedClass สืบทอดมาจาก BaseClass1 โดยตรง\n",
    "\n",
    "หลังจากนั้น คอนสตรัคเตอร์ของ DerivedClass จะถูกเรียกตามมา"
   ]
  }
 ],
 "metadata": {
  "kernelspec": {
   "display_name": ".NET (C#)",
   "language": "C#",
   "name": ".net-csharp"
  },
  "polyglot_notebook": {
   "kernelInfo": {
    "defaultKernelName": "csharp",
    "items": [
     {
      "aliases": [],
      "languageName": "csharp",
      "name": "csharp"
     }
    ]
   }
  }
 },
 "nbformat": 4,
 "nbformat_minor": 2
}
